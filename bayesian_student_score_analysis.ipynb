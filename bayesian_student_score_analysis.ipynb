{
  "cells": [
    {
      "cell_type": "code",
      "execution_count": null,
      "metadata": {
        "colab": {
          "background_save": true,
          "base_uri": "https://localhost:8080/"
        },
        "id": "IMO-UeE4l3bH",
        "outputId": "908fc608-161c-47ea-c642-63252e86eba0"
      },
      "outputs": [
        {
          "name": "stderr",
          "output_type": "stream",
          "text": [
            "Installing package into ‘/usr/local/lib/R/site-library’\n",
            "(as ‘lib’ is unspecified)\n",
            "\n",
            "also installing the dependencies ‘numDeriv’, ‘plyr’, ‘StanHeaders’, ‘inline’, ‘gridExtra’, ‘RcppParallel’, ‘QuickJSR’, ‘RcppEigen’, ‘BH’, ‘checkmate’, ‘tensorA’, ‘distributional’, ‘ggridges’, ‘reshape2’, ‘mvtnorm’, ‘Brobdingnag’, ‘globals’, ‘listenv’, ‘parallelly’, ‘rstan’, ‘loo’, ‘posterior’, ‘rstantools’, ‘bayesplot’, ‘bridgesampling’, ‘future’, ‘future.apply’, ‘matrixStats’, ‘nleqslv’, ‘coda’, ‘abind’\n",
            "\n",
            "\n"
          ]
        }
      ],
      "source": [
        "install.packages(\"brms\")"
      ]
    },
    {
      "cell_type": "code",
      "execution_count": null,
      "metadata": {
        "colab": {
          "base_uri": "https://localhost:8080/",
          "height": 286
        },
        "id": "bOcvEeEtqFWL",
        "outputId": "bfe7499a-78bd-47bd-c014-09978dce18d0"
      },
      "outputs": [
        {
          "data": {
            "text/html": [
              "<table class=\"dataframe\">\n",
              "<caption>A data.frame: 6 × 8</caption>\n",
              "<thead>\n",
              "\t<tr><th></th><th scope=col>gender</th><th scope=col>race.ethnicity</th><th scope=col>parental.level.of.education</th><th scope=col>lunch</th><th scope=col>test.preparation.course</th><th scope=col>math.score</th><th scope=col>reading.score</th><th scope=col>writing.score</th></tr>\n",
              "\t<tr><th></th><th scope=col>&lt;chr&gt;</th><th scope=col>&lt;chr&gt;</th><th scope=col>&lt;chr&gt;</th><th scope=col>&lt;chr&gt;</th><th scope=col>&lt;chr&gt;</th><th scope=col>&lt;int&gt;</th><th scope=col>&lt;int&gt;</th><th scope=col>&lt;int&gt;</th></tr>\n",
              "</thead>\n",
              "<tbody>\n",
              "\t<tr><th scope=row>1</th><td>female</td><td>group B</td><td>bachelor's degree </td><td>standard    </td><td>none     </td><td>72</td><td>72</td><td>74</td></tr>\n",
              "\t<tr><th scope=row>2</th><td>female</td><td>group C</td><td>some college      </td><td>standard    </td><td>completed</td><td>69</td><td>90</td><td>88</td></tr>\n",
              "\t<tr><th scope=row>3</th><td>female</td><td>group B</td><td>master's degree   </td><td>standard    </td><td>none     </td><td>90</td><td>95</td><td>93</td></tr>\n",
              "\t<tr><th scope=row>4</th><td>male  </td><td>group A</td><td>associate's degree</td><td>free/reduced</td><td>none     </td><td>47</td><td>57</td><td>44</td></tr>\n",
              "\t<tr><th scope=row>5</th><td>male  </td><td>group C</td><td>some college      </td><td>standard    </td><td>none     </td><td>76</td><td>78</td><td>75</td></tr>\n",
              "\t<tr><th scope=row>6</th><td>female</td><td>group B</td><td>associate's degree</td><td>standard    </td><td>none     </td><td>71</td><td>83</td><td>78</td></tr>\n",
              "</tbody>\n",
              "</table>\n"
            ],
            "text/latex": "A data.frame: 6 × 8\n\\begin{tabular}{r|llllllll}\n  & gender & race.ethnicity & parental.level.of.education & lunch & test.preparation.course & math.score & reading.score & writing.score\\\\\n  & <chr> & <chr> & <chr> & <chr> & <chr> & <int> & <int> & <int>\\\\\n\\hline\n\t1 & female & group B & bachelor's degree  & standard     & none      & 72 & 72 & 74\\\\\n\t2 & female & group C & some college       & standard     & completed & 69 & 90 & 88\\\\\n\t3 & female & group B & master's degree    & standard     & none      & 90 & 95 & 93\\\\\n\t4 & male   & group A & associate's degree & free/reduced & none      & 47 & 57 & 44\\\\\n\t5 & male   & group C & some college       & standard     & none      & 76 & 78 & 75\\\\\n\t6 & female & group B & associate's degree & standard     & none      & 71 & 83 & 78\\\\\n\\end{tabular}\n",
            "text/markdown": "\nA data.frame: 6 × 8\n\n| <!--/--> | gender &lt;chr&gt; | race.ethnicity &lt;chr&gt; | parental.level.of.education &lt;chr&gt; | lunch &lt;chr&gt; | test.preparation.course &lt;chr&gt; | math.score &lt;int&gt; | reading.score &lt;int&gt; | writing.score &lt;int&gt; |\n|---|---|---|---|---|---|---|---|---|\n| 1 | female | group B | bachelor's degree  | standard     | none      | 72 | 72 | 74 |\n| 2 | female | group C | some college       | standard     | completed | 69 | 90 | 88 |\n| 3 | female | group B | master's degree    | standard     | none      | 90 | 95 | 93 |\n| 4 | male   | group A | associate's degree | free/reduced | none      | 47 | 57 | 44 |\n| 5 | male   | group C | some college       | standard     | none      | 76 | 78 | 75 |\n| 6 | female | group B | associate's degree | standard     | none      | 71 | 83 | 78 |\n\n",
            "text/plain": [
              "  gender race.ethnicity parental.level.of.education lunch       \n",
              "1 female group B        bachelor's degree           standard    \n",
              "2 female group C        some college                standard    \n",
              "3 female group B        master's degree             standard    \n",
              "4 male   group A        associate's degree          free/reduced\n",
              "5 male   group C        some college                standard    \n",
              "6 female group B        associate's degree          standard    \n",
              "  test.preparation.course math.score reading.score writing.score\n",
              "1 none                    72         72            74           \n",
              "2 completed               69         90            88           \n",
              "3 none                    90         95            93           \n",
              "4 none                    47         57            44           \n",
              "5 none                    76         78            75           \n",
              "6 none                    71         83            78           "
            ]
          },
          "metadata": {},
          "output_type": "display_data"
        }
      ],
      "source": [
        "data = read.csv(\"/content/StudentsPerformance.csv\")\n",
        "head(data)"
      ]
    },
    {
      "cell_type": "code",
      "execution_count": null,
      "metadata": {
        "colab": {
          "base_uri": "https://localhost:8080/",
          "height": 52
        },
        "id": "i-NtklcXtmcF",
        "outputId": "cf4315d9-ff4c-4fbe-87f1-9c744aae48c8"
      },
      "outputs": [
        {
          "data": {
            "text/html": [
              "<style>\n",
              ".dl-inline {width: auto; margin:0; padding: 0}\n",
              ".dl-inline>dt, .dl-inline>dd {float: none; width: auto; display: inline-block}\n",
              ".dl-inline>dt::after {content: \":\\0020\"; padding-right: .5ex}\n",
              ".dl-inline>dt:not(:first-of-type) {padding-left: .5ex}\n",
              "</style><dl class=dl-inline><dt>gender</dt><dd>0</dd><dt>race.ethnicity</dt><dd>0</dd><dt>parental.level.of.education</dt><dd>0</dd><dt>lunch</dt><dd>0</dd><dt>test.preparation.course</dt><dd>0</dd><dt>math.score</dt><dd>0</dd><dt>reading.score</dt><dd>0</dd><dt>writing.score</dt><dd>0</dd></dl>\n"
            ],
            "text/latex": "\\begin{description*}\n\\item[gender] 0\n\\item[race.ethnicity] 0\n\\item[parental.level.of.education] 0\n\\item[lunch] 0\n\\item[test.preparation.course] 0\n\\item[math.score] 0\n\\item[reading.score] 0\n\\item[writing.score] 0\n\\end{description*}\n",
            "text/markdown": "gender\n:   0race.ethnicity\n:   0parental.level.of.education\n:   0lunch\n:   0test.preparation.course\n:   0math.score\n:   0reading.score\n:   0writing.score\n:   0\n\n",
            "text/plain": [
              "                     gender              race.ethnicity \n",
              "                          0                           0 \n",
              "parental.level.of.education                       lunch \n",
              "                          0                           0 \n",
              "    test.preparation.course                  math.score \n",
              "                          0                           0 \n",
              "              reading.score               writing.score \n",
              "                          0                           0 "
            ]
          },
          "metadata": {},
          "output_type": "display_data"
        },
        {
          "data": {
            "text/html": [
              "0"
            ],
            "text/latex": "0",
            "text/markdown": "0",
            "text/plain": [
              "[1] 0"
            ]
          },
          "metadata": {},
          "output_type": "display_data"
        }
      ],
      "source": [
        "colSums(is.na(data))\n",
        "\n",
        "sum(duplicated(data))\n",
        "#checking for null values, data types & duplicate rows"
      ]
    },
    {
      "cell_type": "code",
      "execution_count": null,
      "metadata": {
        "colab": {
          "base_uri": "https://localhost:8080/"
        },
        "id": "IQYMIvyeqRPR",
        "outputId": "0f0f076e-2de9-45a5-87d5-955904754d8f"
      },
      "outputs": [
        {
          "name": "stdout",
          "output_type": "stream",
          "text": [
            "'data.frame':\t1000 obs. of  8 variables:\n",
            " $ gender                     : chr  \"female\" \"female\" \"female\" \"male\" ...\n",
            " $ race.ethnicity             : chr  \"group B\" \"group C\" \"group B\" \"group A\" ...\n",
            " $ parental.level.of.education: chr  \"bachelor's degree\" \"some college\" \"master's degree\" \"associate's degree\" ...\n",
            " $ lunch                      : chr  \"standard\" \"standard\" \"standard\" \"free/reduced\" ...\n",
            " $ test.preparation.course    : chr  \"none\" \"completed\" \"none\" \"none\" ...\n",
            " $ math.score                 : int  72 69 90 47 76 71 88 40 64 38 ...\n",
            " $ reading.score              : int  72 90 95 57 78 83 95 43 64 60 ...\n",
            " $ writing.score              : int  74 88 93 44 75 78 92 39 67 50 ...\n"
          ]
        }
      ],
      "source": [
        "str(data)"
      ]
    },
    {
      "cell_type": "code",
      "execution_count": null,
      "metadata": {
        "colab": {
          "base_uri": "https://localhost:8080/",
          "height": 106
        },
        "id": "LLenOcZpuVst",
        "outputId": "30a47659-2ec8-4eb3-8159-69cc22f43060"
      },
      "outputs": [
        {
          "ename": "ERROR",
          "evalue": "Error in library(GGally): there is no package called ‘GGally’\n",
          "output_type": "error",
          "traceback": [
            "Error in library(GGally): there is no package called ‘GGally’\nTraceback:\n",
            "1. stop(packageNotFoundError(package, lib.loc, sys.call()))"
          ]
        }
      ],
      "source": [
        "# Load the library\n",
        "library(GGally)\n",
        "\n",
        "# Include gender as color\n",
        "ggpairs(data,\n",
        "        columns = c(\"math.score\", \"reading.score\", \"writing.score\"),\n",
        "        mapping = ggplot2::aes(color = gender))\n"
      ]
    },
    {
      "cell_type": "code",
      "execution_count": null,
      "metadata": {
        "id": "BH16sDkFujyo"
      },
      "outputs": [],
      "source": [
        "#optional\n",
        "#only if we found duplicate values in the above code runt he below."
      ]
    },
    {
      "cell_type": "code",
      "execution_count": null,
      "metadata": {
        "colab": {
          "base_uri": "https://localhost:8080/"
        },
        "id": "yrs0MchntkH4",
        "outputId": "af39c6e7-1c05-4abc-92e4-4b07b9b01412"
      },
      "outputs": [
        {
          "name": "stdout",
          "output_type": "stream",
          "text": [
            "after dropping duplicates: 1000 rows and 8 columns\n"
          ]
        }
      ],
      "source": [
        "data = data[!duplicated(data), ]\n",
        "cat(\"after dropping duplicates:\", dim(data)[1], \"rows and\", dim(data)[2], \"columns\\n\")"
      ]
    },
    {
      "cell_type": "code",
      "execution_count": null,
      "metadata": {
        "colab": {
          "base_uri": "https://localhost:8080/",
          "height": 381
        },
        "id": "jn4aKUD8tbIS",
        "outputId": "51d860d3-58db-43c0-bede-814342526133"
      },
      "outputs": [
        {
          "data": {
            "text/plain": [
              "    gender          race.ethnicity     parental.level.of.education\n",
              " Length:1000        Length:1000        Length:1000                \n",
              " Class :character   Class :character   Class :character           \n",
              " Mode  :character   Mode  :character   Mode  :character           \n",
              "                                                                  \n",
              "                                                                  \n",
              "                                                                  \n",
              "    lunch           test.preparation.course   math.score     reading.score   \n",
              " Length:1000        Length:1000             Min.   :  0.00   Min.   : 17.00  \n",
              " Class :character   Class :character        1st Qu.: 57.00   1st Qu.: 59.00  \n",
              " Mode  :character   Mode  :character        Median : 66.00   Median : 70.00  \n",
              "                                            Mean   : 66.09   Mean   : 69.17  \n",
              "                                            3rd Qu.: 77.00   3rd Qu.: 79.00  \n",
              "                                            Max.   :100.00   Max.   :100.00  \n",
              " writing.score   \n",
              " Min.   : 10.00  \n",
              " 1st Qu.: 57.75  \n",
              " Median : 69.00  \n",
              " Mean   : 68.05  \n",
              " 3rd Qu.: 79.00  \n",
              " Max.   :100.00  "
            ]
          },
          "metadata": {},
          "output_type": "display_data"
        }
      ],
      "source": [
        "summary(data)"
      ]
    },
    {
      "cell_type": "code",
      "execution_count": null,
      "metadata": {
        "id": "P1W6yiNpvI8Q"
      },
      "outputs": [],
      "source": [
        "#converting charector categorical into numerical categorical"
      ]
    },
    {
      "cell_type": "code",
      "execution_count": null,
      "metadata": {
        "id": "sYB15WMy3QUH"
      },
      "outputs": [],
      "source": [
        "data$'gender' = as.factor(data$'gender')\n",
        "data$'race.ethnicity' = as.factor(data$'race.ethnicity')\n",
        "data$'parental.level.of.education' <- as.factor(data$'parental.level.of.education')\n",
        "data$'lunch' <- as.factor(data$'lunch')\n",
        "data$'test.preparation.course' <- as.factor(data$'test.preparation.course')"
      ]
    },
    {
      "cell_type": "code",
      "execution_count": null,
      "metadata": {
        "colab": {
          "base_uri": "https://localhost:8080/"
        },
        "collapsed": true,
        "id": "k6y5eYWY3Q7t",
        "outputId": "97d0507d-faae-4134-c993-36d2fa682b46"
      },
      "outputs": [
        {
          "name": "stdout",
          "output_type": "stream",
          "text": [
            "'data.frame':\t1000 obs. of  8 variables:\n",
            " $ gender                     : Factor w/ 2 levels \"female\",\"male\": 1 1 1 2 2 1 1 2 2 1 ...\n",
            " $ race.ethnicity             : Factor w/ 5 levels \"group A\",\"group B\",..: 2 3 2 1 3 2 2 2 4 2 ...\n",
            " $ parental.level.of.education: Factor w/ 6 levels \"associate's degree\",..: 2 5 4 1 5 1 5 5 3 3 ...\n",
            " $ lunch                      : Factor w/ 2 levels \"free/reduced\",..: 2 2 2 1 2 2 2 1 1 1 ...\n",
            " $ test.preparation.course    : Factor w/ 2 levels \"completed\",\"none\": 2 1 2 2 2 2 1 2 1 2 ...\n",
            " $ math.score                 : int  72 69 90 47 76 71 88 40 64 38 ...\n",
            " $ reading.score              : int  72 90 95 57 78 83 95 43 64 60 ...\n",
            " $ writing.score              : int  74 88 93 44 75 78 92 39 67 50 ...\n"
          ]
        }
      ],
      "source": [
        "str(data)"
      ]
    },
    {
      "cell_type": "code",
      "execution_count": null,
      "metadata": {
        "colab": {
          "base_uri": "https://localhost:8080/",
          "height": 781
        },
        "id": "pDRdkwcg37wp",
        "outputId": "4bd04ace-48aa-4d6b-bd6e-fcc6cf743d28"
      },
      "outputs": [
        {
          "data": {
            "text/plain": [
              "\n",
              "Call:\n",
              "lm(formula = math.score ~ gender + race.ethnicity + parental.level.of.education + \n",
              "    lunch + test.preparation.course, data = data)\n",
              "\n",
              "Residuals:\n",
              "    Min      1Q  Median      3Q     Max \n",
              "-50.357  -8.744   0.166   9.001  30.655 \n",
              "\n",
              "Coefficients:\n",
              "                                             Estimate Std. Error t value\n",
              "(Intercept)                                   57.6305     1.8721  30.784\n",
              "gendermale                                     4.9953     0.8390   5.954\n",
              "race.ethnicitygroup B                          2.0408     1.6998   1.201\n",
              "race.ethnicitygroup C                          2.4700     1.5918   1.552\n",
              "race.ethnicitygroup D                          5.3410     1.6241   3.289\n",
              "race.ethnicitygroup E                         10.1347     1.8015   5.626\n",
              "parental.level.of.educationbachelor's degree   1.9661     1.5020   1.309\n",
              "parental.level.of.educationhigh school        -4.8027     1.2971  -3.703\n",
              "parental.level.of.educationmaster's degree     2.8884     1.9382   1.490\n",
              "parental.level.of.educationsome college       -0.5827     1.2470  -0.467\n",
              "parental.level.of.educationsome high school   -4.2487     1.3331  -3.187\n",
              "lunchstandard                                 10.8768     0.8727  12.463\n",
              "test.preparation.coursenone                   -5.4947     0.8756  -6.275\n",
              "                                             Pr(>|t|)    \n",
              "(Intercept)                                   < 2e-16 ***\n",
              "gendermale                                   3.63e-09 ***\n",
              "race.ethnicitygroup B                        0.230181    \n",
              "race.ethnicitygroup C                        0.121060    \n",
              "race.ethnicitygroup D                        0.001042 ** \n",
              "race.ethnicitygroup E                        2.41e-08 ***\n",
              "parental.level.of.educationbachelor's degree 0.190831    \n",
              "parental.level.of.educationhigh school       0.000225 ***\n",
              "parental.level.of.educationmaster's degree   0.136490    \n",
              "parental.level.of.educationsome college      0.640431    \n",
              "parental.level.of.educationsome high school  0.001482 ** \n",
              "lunchstandard                                 < 2e-16 ***\n",
              "test.preparation.coursenone                  5.22e-10 ***\n",
              "---\n",
              "Signif. codes:  0 ‘***’ 0.001 ‘**’ 0.01 ‘*’ 0.05 ‘.’ 0.1 ‘ ’ 1\n",
              "\n",
              "Residual standard error: 13.17 on 987 degrees of freedom\n",
              "Multiple R-squared:  0.2548,\tAdjusted R-squared:  0.2457 \n",
              "F-statistic: 28.12 on 12 and 987 DF,  p-value: < 2.2e-16\n"
            ]
          },
          "metadata": {},
          "output_type": "display_data"
        }
      ],
      "source": [
        "# model fir\n",
        "lm_model <- lm(math.score ~ gender + race.ethnicity + parental.level.of.education +\n",
        "               lunch + test.preparation.course, data)\n",
        "# summary\n",
        "summary(lm_model)\n"
      ]
    },
    {
      "cell_type": "code",
      "execution_count": null,
      "metadata": {
        "colab": {
          "base_uri": "https://localhost:8080/"
        },
        "id": "q7J17QJe5hgF",
        "outputId": "9156b6da-4052-43a0-dbf9-5add1b0e415a"
      },
      "outputs": [
        {
          "name": "stderr",
          "output_type": "stream",
          "text": [
            "Loading required package: Rcpp\n",
            "\n",
            "Loading 'brms' package (version 2.22.0). Useful instructions\n",
            "can be found by typing help('brms'). A more detailed introduction\n",
            "to the package is available through vignette('brms_overview').\n",
            "\n",
            "\n",
            "Attaching package: ‘brms’\n",
            "\n",
            "\n",
            "The following object is masked from ‘package:stats’:\n",
            "\n",
            "    ar\n",
            "\n",
            "\n",
            "Compiling Stan program...\n",
            "\n",
            "Start sampling\n",
            "\n"
          ]
        }
      ],
      "source": [
        "library(brms)\n",
        "bayes_model <- brm(\n",
        "  formula = math.score ~ gender + race.ethnicity + parental.level.of.education +\n",
        "            lunch + test.preparation.course,\n",
        "  data = data,\n",
        "  family = gaussian(),\n",
        "  prior = set_prior(\"normal(0, 10)\", class = \"b\"),\n",
        "  chains = 4,\n",
        "  iter = 2000,\n",
        "  warmup = 500,\n",
        "  cores = 4,\n",
        "  seed = 123\n",
        ")"
      ]
    },
    {
      "cell_type": "code",
      "execution_count": null,
      "metadata": {
        "colab": {
          "base_uri": "https://localhost:8080/",
          "height": 781
        },
        "id": "mL2PmH1_mwJh",
        "outputId": "f75f43af-17fd-4315-c011-0abf45b678d1"
      },
      "outputs": [
        {
          "data": {
            "text/plain": [
              " Family: gaussian \n",
              "  Links: mu = identity; sigma = identity \n",
              "Formula: math.score ~ gender + race.ethnicity + parental.level.of.education + lunch + test.preparation.course \n",
              "   Data: data (Number of observations: 1000) \n",
              "  Draws: 4 chains, each with iter = 2000; warmup = 500; thin = 1;\n",
              "         total post-warmup draws = 6000\n",
              "\n",
              "Regression Coefficients:\n",
              "                                           Estimate Est.Error l-95% CI u-95% CI\n",
              "Intercept                                     57.98      1.84    54.41    61.55\n",
              "gendermale                                     4.95      0.84     3.35     6.57\n",
              "race.ethnicitygroupB                           1.69      1.62    -1.57     4.82\n",
              "race.ethnicitygroupC                           2.12      1.54    -0.97     5.10\n",
              "race.ethnicitygroupD                           4.96      1.56     1.84     7.89\n",
              "race.ethnicitygroupE                           9.69      1.72     6.29    13.05\n",
              "parental.level.of.educationbachelorsdegree     1.97      1.46    -0.91     4.88\n",
              "parental.level.of.educationhighschool         -4.73      1.28    -7.26    -2.18\n",
              "parental.level.of.educationmastersdegree       2.85      1.89    -0.82     6.55\n",
              "parental.level.of.educationsomecollege        -0.52      1.24    -2.97     1.95\n",
              "parental.level.of.educationsomehighschool     -4.17      1.30    -6.79    -1.66\n",
              "lunchstandard                                 10.81      0.87     9.08    12.49\n",
              "test.preparation.coursenone                   -5.46      0.89    -7.19    -3.73\n",
              "                                           Rhat Bulk_ESS Tail_ESS\n",
              "Intercept                                  1.00     3350     3979\n",
              "gendermale                                 1.00     8464     4952\n",
              "race.ethnicitygroupB                       1.00     3524     4581\n",
              "race.ethnicitygroupC                       1.00     3357     3980\n",
              "race.ethnicitygroupD                       1.00     3424     3984\n",
              "race.ethnicitygroupE                       1.00     3709     4256\n",
              "parental.level.of.educationbachelorsdegree 1.00     4757     4889\n",
              "parental.level.of.educationhighschool      1.00     4484     4929\n",
              "parental.level.of.educationmastersdegree   1.00     6055     4397\n",
              "parental.level.of.educationsomecollege     1.00     4484     4682\n",
              "parental.level.of.educationsomehighschool  1.00     4688     4954\n",
              "lunchstandard                              1.00     6415     4736\n",
              "test.preparation.coursenone                1.00     7462     4466\n",
              "\n",
              "Further Distributional Parameters:\n",
              "      Estimate Est.Error l-95% CI u-95% CI Rhat Bulk_ESS Tail_ESS\n",
              "sigma    13.17      0.29    12.61    13.77 1.00     7857     4260\n",
              "\n",
              "Draws were sampled using sampling(NUTS). For each parameter, Bulk_ESS\n",
              "and Tail_ESS are effective sample size measures, and Rhat is the potential\n",
              "scale reduction factor on split chains (at convergence, Rhat = 1)."
            ]
          },
          "metadata": {},
          "output_type": "display_data"
        }
      ],
      "source": [
        "summary(bayes_model)\n"
      ]
    },
    {
      "cell_type": "markdown",
      "metadata": {
        "id": "noOem3uZ147-"
      },
      "source": [
        "Race/Ethnicity\t  Yes   (for groups D and E)\t   Positive\n",
        "\n",
        "Lunch Type\t      Yes\t   Standard lunch         higher scores\n",
        "\n",
        "Test Prep Course\tYes\t   No prep →              lower scores\n",
        "\n",
        "Yes, they all significantly impact math scores — especially lunch status and test preparation course, and for certain race/ethnicity groups like D and E.\""
      ]
    },
    {
      "cell_type": "code",
      "execution_count": null,
      "metadata": {
        "id": "tHjOP3kq11Ay"
      },
      "outputs": [],
      "source": []
    }
  ],
  "metadata": {
    "colab": {
      "provenance": []
    },
    "kernelspec": {
      "display_name": "R",
      "name": "ir"
    },
    "language_info": {
      "name": "R"
    }
  },
  "nbformat": 4,
  "nbformat_minor": 0
}
